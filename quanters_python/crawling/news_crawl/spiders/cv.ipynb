{
 "cells": [
  {
   "cell_type": "code",
   "execution_count": 1,
   "metadata": {},
   "outputs": [],
   "source": [
    "import pandas as pd"
   ]
  },
  {
   "cell_type": "code",
   "execution_count": 23,
   "metadata": {},
   "outputs": [],
   "source": [
    "sk = pd.read_csv('../../../data/news/skNewsCrawl2.csv')\n",
    "samsung = pd.read_csv('../../../data/news/newsCrawl1.csv')\n",
    "naver = pd.read_csv('../../../data/news/naverNewsCrawl2.csv')\n",
    "kakao = pd.read_csv('../../../data/news/kakaoNewsCrawl2.csv')"
   ]
  },
  {
   "cell_type": "code",
   "execution_count": 26,
   "metadata": {},
   "outputs": [
    {
     "data": {
      "text/html": [
       "<div>\n",
       "<style scoped>\n",
       "    .dataframe tbody tr th:only-of-type {\n",
       "        vertical-align: middle;\n",
       "    }\n",
       "\n",
       "    .dataframe tbody tr th {\n",
       "        vertical-align: top;\n",
       "    }\n",
       "\n",
       "    .dataframe thead th {\n",
       "        text-align: right;\n",
       "    }\n",
       "</style>\n",
       "<table border=\"1\" class=\"dataframe\">\n",
       "  <thead>\n",
       "    <tr style=\"text-align: right;\">\n",
       "      <th></th>\n",
       "      <th>company</th>\n",
       "      <th>date</th>\n",
       "      <th>text</th>\n",
       "      <th>title</th>\n",
       "    </tr>\n",
       "  </thead>\n",
       "  <tbody>\n",
       "    <tr>\n",
       "      <th>0</th>\n",
       "      <td>SK하이닉스</td>\n",
       "      <td>2023. 6. 5. 10:10</td>\n",
       "      <td>SK하이닉스가 외국인 투자자를 대상으로 지난 4월 발행한 17억 달러(한화 2조23...</td>\n",
       "      <td>‘11만닉스’ 된 SK하이닉스, 교환사채 2000만주 증시에 언제 풀릴까</td>\n",
       "    </tr>\n",
       "    <tr>\n",
       "      <th>1</th>\n",
       "      <td>SK하이닉스</td>\n",
       "      <td>2023. 6. 7. 17:44</td>\n",
       "      <td>[이천=뉴시스] 김종택 기자 =경기도 이천 SK하이닉스 본사 모습. 2023.04....</td>\n",
       "      <td>SK하이닉스 노조, '기본급 6.5% 인상·성과급 확대' 요구</td>\n",
       "    </tr>\n",
       "    <tr>\n",
       "      <th>2</th>\n",
       "      <td>SK하이닉스</td>\n",
       "      <td>2023. 6. 1. 17:39</td>\n",
       "      <td>SK하이닉스가 인텔에서 인수한 낸드플래시 사업 부문(현 솔리다임)과 시너지 효과를 ...</td>\n",
       "      <td>반도체 불황의 충격파 SK하이닉스 '낸드 부진'</td>\n",
       "    </tr>\n",
       "  </tbody>\n",
       "</table>\n",
       "</div>"
      ],
      "text/plain": [
       "  company               date   \n",
       "0  SK하이닉스  2023. 6. 5. 10:10  \\\n",
       "1  SK하이닉스  2023. 6. 7. 17:44   \n",
       "2  SK하이닉스  2023. 6. 1. 17:39   \n",
       "\n",
       "                                                text   \n",
       "0  SK하이닉스가 외국인 투자자를 대상으로 지난 4월 발행한 17억 달러(한화 2조23...  \\\n",
       "1  [이천=뉴시스] 김종택 기자 =경기도 이천 SK하이닉스 본사 모습. 2023.04....   \n",
       "2  SK하이닉스가 인텔에서 인수한 낸드플래시 사업 부문(현 솔리다임)과 시너지 효과를 ...   \n",
       "\n",
       "                                      title  \n",
       "0  ‘11만닉스’ 된 SK하이닉스, 교환사채 2000만주 증시에 언제 풀릴까  \n",
       "1        SK하이닉스 노조, '기본급 6.5% 인상·성과급 확대' 요구  \n",
       "2                반도체 불황의 충격파 SK하이닉스 '낸드 부진'  "
      ]
     },
     "execution_count": 26,
     "metadata": {},
     "output_type": "execute_result"
    }
   ],
   "source": [
    "sk.head(3)"
   ]
  },
  {
   "cell_type": "code",
   "execution_count": 25,
   "metadata": {},
   "outputs": [
    {
     "data": {
      "text/html": [
       "<div>\n",
       "<style scoped>\n",
       "    .dataframe tbody tr th:only-of-type {\n",
       "        vertical-align: middle;\n",
       "    }\n",
       "\n",
       "    .dataframe tbody tr th {\n",
       "        vertical-align: top;\n",
       "    }\n",
       "\n",
       "    .dataframe thead th {\n",
       "        text-align: right;\n",
       "    }\n",
       "</style>\n",
       "<table border=\"1\" class=\"dataframe\">\n",
       "  <thead>\n",
       "    <tr style=\"text-align: right;\">\n",
       "      <th></th>\n",
       "      <th>company</th>\n",
       "      <th>date</th>\n",
       "      <th>text</th>\n",
       "      <th>title</th>\n",
       "    </tr>\n",
       "  </thead>\n",
       "  <tbody>\n",
       "    <tr>\n",
       "      <th>0</th>\n",
       "      <td>삼성전자</td>\n",
       "      <td>2023. 6. 7. 11:20</td>\n",
       "      <td>삼성전자의 엑시노스 오토 V920. 삼성전자 제공\\n\\n삼성전자가 현대자동차와 차량...</td>\n",
       "      <td>삼성전자·현대차, 모빌리티 힘 모은다…車 인포테인먼트 첫 협력</td>\n",
       "    </tr>\n",
       "    <tr>\n",
       "      <th>1</th>\n",
       "      <td>삼성전자</td>\n",
       "      <td>2023. 6. 1. 21:06</td>\n",
       "      <td>[서울=뉴시스]이영희 삼성전자 DX부문 글로벌마케팅실장 사장. (사진 = 삼성전자)...</td>\n",
       "      <td>이영희 삼성전자 사장 \"갤럭시 언팩 국내서 하는 까닭은…\"</td>\n",
       "    </tr>\n",
       "    <tr>\n",
       "      <th>2</th>\n",
       "      <td>삼성전자</td>\n",
       "      <td>2023. 6. 7. 15:52</td>\n",
       "      <td>지난해 8월 서울 서초구 삼성전자 딜라이트에 '갤럭시Z플립4'와 '갤럭시Z폴드4'가...</td>\n",
       "      <td>“폴더블폰 원조” 삼성전자, ‘갤럭시 언팩’ 최초로 국내서 7월 말 연다</td>\n",
       "    </tr>\n",
       "  </tbody>\n",
       "</table>\n",
       "</div>"
      ],
      "text/plain": [
       "  company               date   \n",
       "0    삼성전자  2023. 6. 7. 11:20  \\\n",
       "1    삼성전자  2023. 6. 1. 21:06   \n",
       "2    삼성전자  2023. 6. 7. 15:52   \n",
       "\n",
       "                                                text   \n",
       "0  삼성전자의 엑시노스 오토 V920. 삼성전자 제공\\n\\n삼성전자가 현대자동차와 차량...  \\\n",
       "1  [서울=뉴시스]이영희 삼성전자 DX부문 글로벌마케팅실장 사장. (사진 = 삼성전자)...   \n",
       "2  지난해 8월 서울 서초구 삼성전자 딜라이트에 '갤럭시Z플립4'와 '갤럭시Z폴드4'가...   \n",
       "\n",
       "                                      title  \n",
       "0        삼성전자·현대차, 모빌리티 힘 모은다…車 인포테인먼트 첫 협력  \n",
       "1          이영희 삼성전자 사장 \"갤럭시 언팩 국내서 하는 까닭은…\"  \n",
       "2  “폴더블폰 원조” 삼성전자, ‘갤럭시 언팩’ 최초로 국내서 7월 말 연다  "
      ]
     },
     "execution_count": 25,
     "metadata": {},
     "output_type": "execute_result"
    }
   ],
   "source": [
    "samsung.head(3)"
   ]
  },
  {
   "cell_type": "code",
   "execution_count": 27,
   "metadata": {},
   "outputs": [
    {
     "data": {
      "text/html": [
       "<div>\n",
       "<style scoped>\n",
       "    .dataframe tbody tr th:only-of-type {\n",
       "        vertical-align: middle;\n",
       "    }\n",
       "\n",
       "    .dataframe tbody tr th {\n",
       "        vertical-align: top;\n",
       "    }\n",
       "\n",
       "    .dataframe thead th {\n",
       "        text-align: right;\n",
       "    }\n",
       "</style>\n",
       "<table border=\"1\" class=\"dataframe\">\n",
       "  <thead>\n",
       "    <tr style=\"text-align: right;\">\n",
       "      <th></th>\n",
       "      <th>company</th>\n",
       "      <th>date</th>\n",
       "      <th>text</th>\n",
       "      <th>title</th>\n",
       "    </tr>\n",
       "  </thead>\n",
       "  <tbody>\n",
       "    <tr>\n",
       "      <th>0</th>\n",
       "      <td>네이버</td>\n",
       "      <td>2023. 6. 1. 20:45</td>\n",
       "      <td>박경식 씨\\n\\n“성의학 자료를 외설물이라고 파기하다니….”\\n\\n\\n\\n“유해한 ...</td>\n",
       "      <td>‘김현철 국정개입 폭로’ 의사, 네이버 고소…“내 자료 파기”</td>\n",
       "    </tr>\n",
       "    <tr>\n",
       "      <th>1</th>\n",
       "      <td>네이버</td>\n",
       "      <td>2023. 6. 4. 13:24</td>\n",
       "      <td>[서울=뉴시스] 네이버 오피스가 지난 1일 자사 홈페이지에 서비스를 11월30일에 ...</td>\n",
       "      <td>네이버 오피스 11월 서비스 종료…\"네이버 폼도 이젠 안녕\"</td>\n",
       "    </tr>\n",
       "    <tr>\n",
       "      <th>2</th>\n",
       "      <td>네이버</td>\n",
       "      <td>2023. 6. 2. 10:04</td>\n",
       "      <td>네이버는 지난 3월부터 27명의 임직원으로 구성된 ‘프로젝트 꽃’ 앰배서더를 구축하...</td>\n",
       "      <td>네이버 임직원, 지역 소상공인 만나 디지털 전환 경험 공유</td>\n",
       "    </tr>\n",
       "  </tbody>\n",
       "</table>\n",
       "</div>"
      ],
      "text/plain": [
       "  company               date   \n",
       "0     네이버  2023. 6. 1. 20:45  \\\n",
       "1     네이버  2023. 6. 4. 13:24   \n",
       "2     네이버  2023. 6. 2. 10:04   \n",
       "\n",
       "                                                text   \n",
       "0  박경식 씨\\n\\n“성의학 자료를 외설물이라고 파기하다니….”\\n\\n\\n\\n“유해한 ...  \\\n",
       "1  [서울=뉴시스] 네이버 오피스가 지난 1일 자사 홈페이지에 서비스를 11월30일에 ...   \n",
       "2  네이버는 지난 3월부터 27명의 임직원으로 구성된 ‘프로젝트 꽃’ 앰배서더를 구축하...   \n",
       "\n",
       "                                title  \n",
       "0  ‘김현철 국정개입 폭로’ 의사, 네이버 고소…“내 자료 파기”  \n",
       "1   네이버 오피스 11월 서비스 종료…\"네이버 폼도 이젠 안녕\"  \n",
       "2    네이버 임직원, 지역 소상공인 만나 디지털 전환 경험 공유  "
      ]
     },
     "execution_count": 27,
     "metadata": {},
     "output_type": "execute_result"
    }
   ],
   "source": [
    "naver.head(3)"
   ]
  },
  {
   "cell_type": "code",
   "execution_count": 28,
   "metadata": {},
   "outputs": [
    {
     "data": {
      "text/html": [
       "<div>\n",
       "<style scoped>\n",
       "    .dataframe tbody tr th:only-of-type {\n",
       "        vertical-align: middle;\n",
       "    }\n",
       "\n",
       "    .dataframe tbody tr th {\n",
       "        vertical-align: top;\n",
       "    }\n",
       "\n",
       "    .dataframe thead th {\n",
       "        text-align: right;\n",
       "    }\n",
       "</style>\n",
       "<table border=\"1\" class=\"dataframe\">\n",
       "  <thead>\n",
       "    <tr style=\"text-align: right;\">\n",
       "      <th></th>\n",
       "      <th>company</th>\n",
       "      <th>date</th>\n",
       "      <th>text</th>\n",
       "      <th>title</th>\n",
       "    </tr>\n",
       "  </thead>\n",
       "  <tbody>\n",
       "    <tr>\n",
       "      <th>0</th>\n",
       "      <td>카카오주식</td>\n",
       "      <td>2023. 6. 6. 04:08</td>\n",
       "      <td>뉴욕증시가 하반기 한풀 꺾일 것이란 전문가들의 전망이 나왔습니다.\\n\\n글로벌 투자...</td>\n",
       "      <td>모건스탠리, S&amp;P 지수 3,900으로 하락 예상…“한국 주식은 낙관”</td>\n",
       "    </tr>\n",
       "    <tr>\n",
       "      <th>1</th>\n",
       "      <td>카카오주식</td>\n",
       "      <td>2023. 6. 3. 06:02</td>\n",
       "      <td>\\n\\n신용융자 이자율이 증권사에 따라 최대 두 배 이상 차이 나는 것으로 나타났다...</td>\n",
       "      <td>배 이상 차이 나는 주식 ‘빚투’ 이자율… 하나‧미래‧유진證 상위</td>\n",
       "    </tr>\n",
       "    <tr>\n",
       "      <th>2</th>\n",
       "      <td>카카오주식</td>\n",
       "      <td>2023. 6. 2. 13:34</td>\n",
       "      <td>올해 1분기 국민연금 국내주식, 채권 거래풀에서 하나증권과 유안타증권이 동시 탈락의...</td>\n",
       "      <td>국민연금, 1분기 국내주식·채권 거래풀서 하나·유안타 동반 탈락</td>\n",
       "    </tr>\n",
       "  </tbody>\n",
       "</table>\n",
       "</div>"
      ],
      "text/plain": [
       "  company               date   \n",
       "0   카카오주식  2023. 6. 6. 04:08  \\\n",
       "1   카카오주식  2023. 6. 3. 06:02   \n",
       "2   카카오주식  2023. 6. 2. 13:34   \n",
       "\n",
       "                                                text   \n",
       "0  뉴욕증시가 하반기 한풀 꺾일 것이란 전문가들의 전망이 나왔습니다.\\n\\n글로벌 투자...  \\\n",
       "1  \\n\\n신용융자 이자율이 증권사에 따라 최대 두 배 이상 차이 나는 것으로 나타났다...   \n",
       "2  올해 1분기 국민연금 국내주식, 채권 거래풀에서 하나증권과 유안타증권이 동시 탈락의...   \n",
       "\n",
       "                                     title  \n",
       "0  모건스탠리, S&P 지수 3,900으로 하락 예상…“한국 주식은 낙관”  \n",
       "1     배 이상 차이 나는 주식 ‘빚투’ 이자율… 하나‧미래‧유진證 상위  \n",
       "2      국민연금, 1분기 국내주식·채권 거래풀서 하나·유안타 동반 탈락  "
      ]
     },
     "execution_count": 28,
     "metadata": {},
     "output_type": "execute_result"
    }
   ],
   "source": [
    "kakao.head(3)"
   ]
  },
  {
   "cell_type": "code",
   "execution_count": 29,
   "metadata": {},
   "outputs": [
    {
     "name": "stdout",
     "output_type": "stream",
     "text": [
      "<class 'pandas.core.frame.DataFrame'>\n",
      "RangeIndex: 17368 entries, 0 to 17367\n",
      "Data columns (total 4 columns):\n",
      " #   Column   Non-Null Count  Dtype \n",
      "---  ------   --------------  ----- \n",
      " 0   company  17368 non-null  object\n",
      " 1   date     16495 non-null  object\n",
      " 2   text     17363 non-null  object\n",
      " 3   title    17359 non-null  object\n",
      "dtypes: object(4)\n",
      "memory usage: 542.9+ KB\n"
     ]
    }
   ],
   "source": [
    "samsung.info()"
   ]
  },
  {
   "cell_type": "code",
   "execution_count": 30,
   "metadata": {},
   "outputs": [
    {
     "name": "stdout",
     "output_type": "stream",
     "text": [
      "<class 'pandas.core.frame.DataFrame'>\n",
      "RangeIndex: 17371 entries, 0 to 17370\n",
      "Data columns (total 4 columns):\n",
      " #   Column   Non-Null Count  Dtype \n",
      "---  ------   --------------  ----- \n",
      " 0   company  17371 non-null  object\n",
      " 1   date     16872 non-null  object\n",
      " 2   text     17197 non-null  object\n",
      " 3   title    17197 non-null  object\n",
      "dtypes: object(4)\n",
      "memory usage: 543.0+ KB\n"
     ]
    }
   ],
   "source": [
    "naver.info()"
   ]
  },
  {
   "cell_type": "code",
   "execution_count": 31,
   "metadata": {},
   "outputs": [
    {
     "name": "stdout",
     "output_type": "stream",
     "text": [
      "<class 'pandas.core.frame.DataFrame'>\n",
      "RangeIndex: 13250 entries, 0 to 13249\n",
      "Data columns (total 4 columns):\n",
      " #   Column   Non-Null Count  Dtype \n",
      "---  ------   --------------  ----- \n",
      " 0   company  13250 non-null  object\n",
      " 1   date     12352 non-null  object\n",
      " 2   text     13250 non-null  object\n",
      " 3   title    13247 non-null  object\n",
      "dtypes: object(4)\n",
      "memory usage: 414.2+ KB\n"
     ]
    }
   ],
   "source": [
    "sk.info()"
   ]
  },
  {
   "cell_type": "code",
   "execution_count": 32,
   "metadata": {},
   "outputs": [
    {
     "name": "stdout",
     "output_type": "stream",
     "text": [
      "<class 'pandas.core.frame.DataFrame'>\n",
      "RangeIndex: 6002 entries, 0 to 6001\n",
      "Data columns (total 4 columns):\n",
      " #   Column   Non-Null Count  Dtype \n",
      "---  ------   --------------  ----- \n",
      " 0   company  6002 non-null   object\n",
      " 1   date     5823 non-null   object\n",
      " 2   text     5999 non-null   object\n",
      " 3   title    5999 non-null   object\n",
      "dtypes: object(4)\n",
      "memory usage: 187.7+ KB\n"
     ]
    }
   ],
   "source": [
    "kakao.info()"
   ]
  },
  {
   "cell_type": "code",
   "execution_count": 34,
   "metadata": {},
   "outputs": [
    {
     "name": "stdout",
     "output_type": "stream",
     "text": [
      "<class 'pandas.core.frame.DataFrame'>\n",
      "RangeIndex: 13825 entries, 0 to 13824\n",
      "Data columns (total 4 columns):\n",
      " #   Column      Non-Null Count  Dtype \n",
      "---  ------      --------------  ----- \n",
      " 0   Unnamed: 0  13825 non-null  int64 \n",
      " 1   company     13825 non-null  object\n",
      " 2   title       13825 non-null  object\n",
      " 3   url         13825 non-null  object\n",
      "dtypes: int64(1), object(3)\n",
      "memory usage: 432.2+ KB\n"
     ]
    }
   ],
   "source": [
    "kakaoUrl = pd.read_csv('../../../data/news/newsUrlCrawl3.csv')  \n",
    "kakaoUrl.info()"
   ]
  }
 ],
 "metadata": {
  "kernelspec": {
   "display_name": "Python 3",
   "language": "python",
   "name": "python3"
  },
  "language_info": {
   "codemirror_mode": {
    "name": "ipython",
    "version": 3
   },
   "file_extension": ".py",
   "mimetype": "text/x-python",
   "name": "python",
   "nbconvert_exporter": "python",
   "pygments_lexer": "ipython3",
   "version": "3.9.16"
  }
 },
 "nbformat": 4,
 "nbformat_minor": 2
}
